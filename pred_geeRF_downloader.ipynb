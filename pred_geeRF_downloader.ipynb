{
 "metadata": {
  "language_info": {
   "codemirror_mode": {
    "name": "ipython",
    "version": 3
   },
   "file_extension": ".py",
   "mimetype": "text/x-python",
   "name": "python",
   "nbconvert_exporter": "python",
   "pygments_lexer": "ipython3",
   "version": "3.8.3-final"
  },
  "orig_nbformat": 2,
  "kernelspec": {
   "name": "python3",
   "display_name": "Python 3.8.3 64-bit (conda)",
   "metadata": {
    "interpreter": {
     "hash": "b3ba2566441a7c06988d0923437866b63cedc61552a5af99d1f4fb67d367b25f"
    }
   }
  }
 },
 "nbformat": 4,
 "nbformat_minor": 2,
 "cells": [
  {
   "source": [
    "# 1. Authenticate & Import"
   ],
   "cell_type": "markdown",
   "metadata": {}
  },
  {
   "cell_type": "code",
   "execution_count": 1,
   "metadata": {},
   "outputs": [
    {
     "output_type": "stream",
     "name": "stdout",
     "text": [
      "Try init ee... 0 1 2 \n",
      "ee initialized!\n"
     ]
    }
   ],
   "source": [
    "import os\n",
    "# 设置代理端口，根据你使用的科学上网软件提供的端口进行\n",
    "os.environ['HTTP_PROXY'] = 'http://127.0.0.1:10809'\n",
    "os.environ['HTTPS_PROXY'] = 'https://127.0.0.1:10809'\n",
    "\n",
    "import ee\n",
    "# 网不好的时候自动重试ee.Initialize()\n",
    "print(\"Try init ee...\", end=\" \")\n",
    "eeInited, tryCounts = False, 0\n",
    "while not eeInited:\n",
    "    print(\"%d\" % tryCounts, end=\" \")\n",
    "    try:\n",
    "        ee.Initialize()\n",
    "    except Exception as e:\n",
    "        if (str(e)[0:23]==\"Please authorize access\"):\n",
    "            ee.Authenticate()\n",
    "        tryCounts += 1\n",
    "    else:\n",
    "        eeInited = True\n",
    "        print(\"\\nee initialized!\")\n",
    "\n",
    "import geemap"
   ]
  },
  {
   "cell_type": "code",
   "execution_count": 2,
   "metadata": {},
   "outputs": [],
   "source": [
    "import os\n",
    "import time\n",
    "import random\n",
    "import numpy as np\n",
    "import matplotlib.pyplot as plt\n",
    "import torch\n",
    "import torch.nn as nn\n",
    "import cv2\n",
    "\n",
    "import gdal\n",
    "import utils\n",
    "import common\n",
    "import dataset\n",
    "import GetMapTiles"
   ]
  },
  {
   "source": [
    "# 2. Import Earth Engine Data"
   ],
   "cell_type": "markdown",
   "metadata": {}
  },
  {
   "cell_type": "code",
   "execution_count": 3,
   "metadata": {},
   "outputs": [],
   "source": [
    "# Boundary and Grid-----------------------------------------------------------------------------------------------------\n",
    "worldBoundary = ee.FeatureCollection(\"users/liuph/shape/WorldBoundary\")\n",
    "ChinaBoundary = ee.FeatureCollection(\"users/410093033/China\")\n",
    "WorldGrid5d = ee.FeatureCollection(\"users/liuph/shape/WorldGrid5dC5\")\n",
    "\n",
    "# Landcover products----------------------------------------------------------------------------------------------------\n",
    "\n",
    "gong = ee.ImageCollection('users/wangyue/Gong2017Glc30') # gong's data\n",
    "forest_gong = ee.ImageCollection(gong).qualityMosaic(\"b1\").expression(\"b(0)==2?1:0\").rename(\"Forestgong\")\n",
    "\n",
    "dataset = ee.ImageCollection('users/sunly3456/Forest2018ImageCollection') # ygs's data\n",
    "forest_ygs =  ee.ImageCollection(dataset).qualityMosaic(\"b1\").expression(\"b(0)==1?1:0\").rename(\"Forestygs\")\n",
    "\n",
    "liu = ee.ImageCollection('users/wangyue/Glc2020Fcs30').select('b1') # liu's data\n",
    "forest_liu = ee.ImageCollection(liu).qualityMosaic(\"b1\").expression(\"b(0)>=50 && b(0)<=90?1:0\").rename(\"Forestliu\")\n",
    "\n",
    "lc = ee.ImageCollection('users/sunly3456/GLC2020') # Chen's data\n",
    "forest_chen = ee.ImageCollection(lc).qualityMosaic(\"b1\").expression(\"b(0)==20?1:0\").rename(\"Forestchen\")\n",
    "\n",
    "dataset = ee.Image('UMD/hansen/global_forest_change_2019_v1_7') # Hansen's data\n",
    "start2000 = ee.Image(dataset).select('treecover2000').expression(\"b(0)>30&&b(0)<=100?1:0\").rename(\"start00\")\n",
    "loss00_19 = ee.Image(dataset).expression(\"b(3)>1&&b(3)<=19?1:0\").rename(\"loss00_19\")\n",
    "gain00_12 = ee.Image(dataset).expression(\"b(2)==1?1:0\").rename(\"gain00_12\")\n",
    "forest_hs = start2000.add(gain00_12).subtract(loss00_19).expression(\"b(0)>0?1:0\").rename(\"Foresths\")\n",
    "\n",
    "# Fusion of landcover products------------------------------------------------------------------------------------------\n",
    "# forest_fuse = forest_gong.add(forest_ygs).add(forest_liu).add(forest_chen).add(forest_hs).rename(\"ForestFuse\")\n",
    "# forest_fuse = ee.ImageCollection('users/sysushiqian/forestFuse2020').min().rename(\"forest_fuse\")\n",
    "forest_fuse = ee.ImageCollection('users/sysushiqian/forestFuse2020_new').min().rename(\"ForestFuse\")\n",
    "forest23 = forest_fuse.expression('b(0)>=2 && b(0)<=3')\n",
    "\n",
    "# Landsat8, cloud mask, median; add NDVI,NDWI,slop ---------------------------------------------------------------------\n",
    "Landsat = ee.ImageCollection(\"LANDSAT/LC08/C01/T1_SR\")\n",
    "selVar = ee.List(['B2', 'B3', 'B4', 'B5', 'B6', 'B7','pixel_qa'])\n",
    "LC = Landsat.filter(ee.Filter.calendarRange(2020, 2020, 'year')).select(selVar).map(utils.maskL8sr)\n",
    "selVar = ee.List(['B2', 'B3', 'B4', 'B5', 'B6', 'B7'])\n",
    "LC = LC.select(selVar).median()\n",
    "\n",
    "ndvi = LC.normalizedDifference(['B5', 'B4']).rename('NDVI')\n",
    "ndwi = LC.normalizedDifference(['B3', 'B5']).rename('NDWI')\n",
    "DEM = ee.Image(\"MERIT/DEM/v1_0_3\")\n",
    "terrain = ee.Algorithms.Terrain(DEM)\n",
    "slope = terrain.select('slope')\n",
    "stratified_classes = ndvi.expression('(b(0)/0.2)').int().rename('STRATIFIED_CLASSES')\n",
    "\n",
    "# Composite Image ------------------------------------------------------------------------------------------------------\n",
    "LC_STN = LC.addBands(ndvi).addBands(ndwi).addBands(slope).addBands(stratified_classes).float()\n",
    "selVar1 = ee.List(['B2', 'B3', 'B4', 'B5', 'B6', 'B7','NDVI','NDWI','slope'])\n",
    "\n",
    "# Validation points ----------------------------------------------------------------------------------------------------\n",
    "# valPoints_all = ee.FeatureCollection(\"users/410093033/wuzhengyi3\").merge(ee.FeatureCollection(\"users/410093033/youzhengyi1\"))\n",
    "# valPoints_all = ee.FeatureCollection(\"users/410093033/AllMark1Valid\")\n",
    "validpoint1 = ee.FeatureCollection('users/410093033/AllMarkValid').filterMetadata('Type','less_than',5)\n",
    "validpoint2 = ee.FeatureCollection('users/sunly3456/globalValidPoints/certainSample0121').filterMetadata('Type','less_than',5)\n",
    "valPoints_all = validpoint1.merge(validpoint2)"
   ]
  },
  {
   "cell_type": "code",
   "execution_count": 4,
   "metadata": {},
   "outputs": [],
   "source": [
    "ID5d_list = [355,356,361,403,404,432,433,434,436,457,459,464,466,473,490,494,495,496,497,498,526,529,532,538,564,573,595,625,681,722,735,736,739,773,774,780,816,826,827,850,870,886,895,908,940,1019,1021,1022,1023,1114,1127,1133,1140,1181,1182,1187,1195,1197]"
   ]
  },
  {
   "cell_type": "code",
   "execution_count": 5,
   "metadata": {},
   "outputs": [
    {
     "output_type": "stream",
     "name": "stdout",
     "text": [
      "\n",
      "[Grid355:Tile0] Sat Mar 20 21:54:23 2021\n",
      "--------------------------------------------------------------------------------\n",
      "missing data: GE FF01 FF05, waiting for download...\n",
      "\n",
      "data missed, download started...\n",
      "Total number：39 X 47 DownLoading... 0% "
     ]
    }
   ],
   "source": [
    "for i in ID5d_list: \n",
    "    ID5d = i\n",
    "    dataPath = r\"I:/ff0105_ge01\"\n",
    "\n",
    "    time_start = time.time()\n",
    "    dataPath_curGrid = dataPath + \"/grid%d\" % ID5d\n",
    "    if not os.path.exists(dataPath_curGrid):\n",
    "        os.mkdir(dataPath_curGrid)\n",
    "    selected5d = WorldGrid5d.filterMetadata(\"ID\", \"equals\", ID5d).first()\n",
    "    llLng, llLat = selected5d.getNumber(\"llLng\").getInfo(), selected5d.getNumber(\"llLat\").getInfo()\n",
    "    grid05d, grid01d = utils.get0501Grid(selected5d, forest23)\n",
    "\n",
    "    IDlist_01d = grid01d.reduceColumns(ee.Reducer.toList(), [\"ID_01d\"]).get(\"list\").getInfo()\n",
    "\n",
    "    for tileNum in range(10):\n",
    "        # 1. 生成随机森林样本-------------------------------------------------------------------------------------------------------------------------------------------------------------------------\n",
    "        idList_05d = list(range(tileNum*10, (tileNum+1)*10, 1))\n",
    "        idList_01d = IDlist_01d[tileNum*10:(tileNum+1)*10]\n",
    "        print(\"\\n[Grid%d:Tile%d] %s\" % (ID5d, tileNum, time.ctime()))\n",
    "        print(\"%s\" % \"-\"*80)\n",
    "\n",
    "        # if not all needed ge/ff01/ff05 are found, wait until all needs are satisfied\n",
    "        while(not common.checkExists_ffge(dataPath, ID5d, idList_05d, idList_01d)):\n",
    "            print(\"\\ndata missed, download started...\")\n",
    "            # time.sleep(120)\n",
    "            for id05d in idList_05d:\n",
    "                f05d = grid05d.filterMetadata(\"ID_05d\", \"equals\", id05d).first()\n",
    "                f01d = grid01d.filterMetadata(\"ID_05d\", \"equals\", id05d).first()\n",
    "                common.download_ffge(dataPath, feature05=f05d, feature01=f01d, forest_fuse=forest_fuse)\n",
    "            \n",
    "        print(\"\\ndata check paased!\")\n",
    "        "
   ]
  },
  {
   "cell_type": "code",
   "execution_count": null,
   "metadata": {},
   "outputs": [],
   "source": []
  }
 ]
}