{
 "cells": [
  {
   "cell_type": "markdown",
   "metadata": {},
   "source": [
    "# 1. Authenticate & Import"
   ]
  },
  {
   "cell_type": "code",
   "execution_count": 1,
   "metadata": {},
   "outputs": [
    {
     "output_type": "stream",
     "name": "stdout",
     "text": [
      "Try init ee... 0 \n",
      "ee initialized!\n"
     ]
    }
   ],
   "source": [
    "import os\n",
    "# 设置代理端口，根据你使用的科学上网软件提供的端口进行\n",
    "proxy = '{}:{}'.format(\"http://127.0.0.1\", 10809)\n",
    "os.environ['HTTP_PROXY'] = proxy\n",
    "os.environ['HTTPS_PROXY'] = proxy\n",
    "\n",
    "import ee\n",
    "# 网不好的时候自动重试ee.Initialize()\n",
    "print(\"Try init ee...\", end=\" \")\n",
    "eeInited, tryCounts = False, 0\n",
    "while not eeInited:\n",
    "    print(\"%d\" % tryCounts, end=\" \")\n",
    "    try:\n",
    "        ee.Initialize()\n",
    "    except Exception as e:\n",
    "        if (str(e)[0:23]==\"Please authorize access\"):\n",
    "            ee.Authenticate()\n",
    "        tryCounts += 1\n",
    "    else:\n",
    "        eeInited = True\n",
    "        print(\"\\nee initialized!\")\n",
    "\n",
    "import geemap\n"
   ]
  },
  {
   "cell_type": "code",
   "execution_count": 2,
   "metadata": {},
   "outputs": [],
   "source": [
    "import os\n",
    "import time\n",
    "import random\n",
    "import numpy as np\n",
    "import matplotlib.pyplot as plt\n",
    "import torch\n",
    "import torch.nn as nn\n",
    "import cv2\n",
    "\n",
    "import gdal\n",
    "import utils\n",
    "import common\n",
    "import dataset\n",
    "import GetMapTiles\n",
    "from models.ResNet import ResNet101"
   ]
  },
  {
   "cell_type": "markdown",
   "metadata": {},
   "source": [
    "# 2. Import Earth Engine Data"
   ]
  },
  {
   "cell_type": "code",
   "execution_count": 3,
   "metadata": {},
   "outputs": [],
   "source": [
    "# Boundary and Grid-----------------------------------------------------------------------------------------------------\n",
    "worldBoundary = ee.FeatureCollection(\"users/liuph/shape/WorldBoundary\")\n",
    "ChinaBoundary = ee.FeatureCollection(\"users/410093033/China\")\n",
    "WorldGrid5d = ee.FeatureCollection(\"users/liuph/shape/WorldGrid5dC5\")\n",
    "\n",
    "# Landcover products----------------------------------------------------------------------------------------------------\n",
    "\n",
    "gong = ee.ImageCollection('users/wangyue/Gong2017Glc30') # gong's data\n",
    "forest_gong = ee.ImageCollection(gong).qualityMosaic(\"b1\").expression(\"b(0)==2?1:0\").rename(\"Forestgong\")\n",
    "\n",
    "dataset = ee.ImageCollection('users/sunly3456/Forest2018ImageCollection') # ygs's data\n",
    "forest_ygs =  ee.ImageCollection(dataset).qualityMosaic(\"b1\").expression(\"b(0)==1?1:0\").rename(\"Forestygs\")\n",
    "\n",
    "liu = ee.ImageCollection('users/wangyue/Glc2020Fcs30').select('b1') # liu's data\n",
    "forest_liu = ee.ImageCollection(liu).qualityMosaic(\"b1\").expression(\"b(0)>=50 && b(0)<=90?1:0\").rename(\"Forestliu\")\n",
    "\n",
    "lc = ee.ImageCollection('users/sunly3456/GLC2020') # Chen's data\n",
    "forest_chen = ee.ImageCollection(lc).qualityMosaic(\"b1\").expression(\"b(0)==20?1:0\").rename(\"Forestchen\")\n",
    "\n",
    "dataset = ee.Image('UMD/hansen/global_forest_change_2019_v1_7') # Hansen's data\n",
    "start2000 = ee.Image(dataset).select('treecover2000').expression(\"b(0)>30&&b(0)<=100?1:0\").rename(\"start00\")\n",
    "loss00_19 = ee.Image(dataset).expression(\"b(3)>1&&b(3)<=19?1:0\").rename(\"loss00_19\")\n",
    "gain00_12 = ee.Image(dataset).expression(\"b(2)==1?1:0\").rename(\"gain00_12\")\n",
    "forest_hs = start2000.add(gain00_12).subtract(loss00_19).expression(\"b(0)>0?1:0\").rename(\"Foresths\")\n",
    "\n",
    "# Fusion of landcover products------------------------------------------------------------------------------------------\n",
    "# forest_fuse = forest_gong.add(forest_ygs).add(forest_liu).add(forest_chen).add(forest_hs).rename(\"ForestFuse\")\n",
    "# forest_fuse = ee.ImageCollection('users/sysushiqian/forestFuse2020').min().rename(\"forest_fuse\")\n",
    "forest_fuse = ee.ImageCollection('users/sysushiqian/forestFuse2020_new').min().rename(\"ForestFuse\")\n",
    "forest23 = forest_fuse.expression('b(0)>=2 && b(0)<=3')\n",
    "\n",
    "# Landsat8, cloud mask, median; add NDVI,NDWI,slop ---------------------------------------------------------------------\n",
    "Landsat = ee.ImageCollection(\"LANDSAT/LC08/C01/T1_SR\")\n",
    "selVar = ee.List(['B2', 'B3', 'B4', 'B5', 'B6', 'B7','pixel_qa'])\n",
    "LC = Landsat.filter(ee.Filter.calendarRange(2020, 2020, 'year')).select(selVar).map(utils.maskL8sr)\n",
    "selVar = ee.List(['B2', 'B3', 'B4', 'B5', 'B6', 'B7'])\n",
    "LC = LC.select(selVar).median()\n",
    "\n",
    "ndvi = LC.normalizedDifference(['B5', 'B4']).rename('NDVI')\n",
    "ndwi = LC.normalizedDifference(['B3', 'B5']).rename('NDWI')\n",
    "DEM = ee.Image(\"MERIT/DEM/v1_0_3\")\n",
    "terrain = ee.Algorithms.Terrain(DEM)\n",
    "slope = terrain.select('slope')\n",
    "stratified_classes = ndvi.expression('(b(0)/0.2)').int().rename('STRATIFIED_CLASSES')\n",
    "\n",
    "# Composite Image ------------------------------------------------------------------------------------------------------\n",
    "LC_STN = LC.addBands(ndvi).addBands(ndwi).addBands(slope).addBands(stratified_classes).float()\n",
    "selVar1 = ee.List(['B2', 'B3', 'B4', 'B5', 'B6', 'B7','NDVI','NDWI','slope'])\n",
    "\n",
    "# Validation points ----------------------------------------------------------------------------------------------------\n",
    "# valPoints_all = ee.FeatureCollection(\"users/410093033/wuzhengyi3\").merge(ee.FeatureCollection(\"users/410093033/youzhengyi1\"))\n",
    "# valPoints_all = ee.FeatureCollection(\"users/410093033/AllMark1Valid\")\n",
    "validpoint1 = ee.FeatureCollection('users/410093033/AllMarkValid').filterMetadata('Type','less_than',5)\n",
    "validpoint2 = ee.FeatureCollection('users/sunly3456/globalValidPoints/certainSample0121').filterMetadata('Type','less_than',5)\n",
    "valPoints_all = validpoint1.merge(validpoint2)"
   ]
  },
  {
   "cell_type": "markdown",
   "metadata": {},
   "source": [
    "# 3. Prepare CNN model & data path"
   ]
  },
  {
   "cell_type": "code",
   "execution_count": 4,
   "metadata": {},
   "outputs": [
    {
     "data": {
      "text/plain": [
       "<All keys matched successfully>"
      ]
     },
     "execution_count": 4,
     "metadata": {},
     "output_type": "execute_result"
    }
   ],
   "source": [
    "ckptPath = r\"./CKPT/ResNet101_GE17_biClass/ckpt.pth\"\n",
    "\n",
    "model = ResNet101(in_ch=3, n_classes=2)\n",
    "model.to(torch.device('cuda:0'))\n",
    "assert os.path.exists(ckptPath), \"ckpt dosen't exists\"\n",
    "ckpt = torch.load(ckptPath, map_location=torch.device('cuda:0'))\n",
    "model.load_state_dict(ckpt[\"model\"])\n",
    "# model = nn.DataParallel(model, device_ids=(0, ))"
   ]
  },
  {
   "cell_type": "markdown",
   "metadata": {},
   "source": [
    "# 4. Operate on selected 5d grid"
   ]
  },
  {
   "cell_type": "code",
   "execution_count": 4,
   "metadata": {},
   "outputs": [],
   "source": [
    "ID5d = 1038\n",
    "\n",
    "dataPath = r\"I:/ff0105_ge01\"\n",
    "exportAssetPath = \"users/thomasshen99/ForestPred_localSure_globalUnsure_biClass_offset_0320\"\n",
    "exportNamePrefix = exportAssetPath.split('/')[-1]\n",
    "\n",
    "time_start = time.time()\n",
    "dataPath_curGrid = dataPath + \"/grid%d\" % ID5d\n",
    "selected5d = WorldGrid5d.filterMetadata(\"ID\", \"equals\", ID5d).first()\n",
    "llLng, llLat = selected5d.getNumber(\"llLng\").getInfo(), selected5d.getNumber(\"llLat\").getInfo()\n",
    "grid05d, grid01d = utils.get0501Grid(selected5d, forest23)\n",
    "\n",
    "IDlist_01d = grid01d.reduceColumns(ee.Reducer.toList(), [\"ID_01d\"]).get(\"list\").getInfo()\n",
    "\n",
    "sureSampleNum, unsureSampleNum = 4000, 3200"
   ]
  },
  {
   "cell_type": "code",
   "execution_count": null,
   "metadata": {
    "tags": []
   },
   "outputs": [
    {
     "name": "stdout",
     "output_type": "stream",
     "text": [
      "\n",
      "[Grid432:Tile4] Wed Jan 27 20:22:22 2021\n",
      "--------------------------------------------------------------------------------\n",
      "data ready!\n",
      "Generating samples for RF: \n"
     ]
    },
    {
     "name": "stderr",
     "output_type": "stream",
     "text": [
      "tile4 ID05d=40:: 100%|███████████████████████████████████████████████████████████████| 100/100 [00:10<00:00,  9.33it/s]\n",
      "tile4 ID05d=41:: 100%|███████████████████████████████████████████████████████████████| 100/100 [00:08<00:00, 11.27it/s]\n",
      "tile4 ID05d=42:: 100%|███████████████████████████████████████████████████████████████| 100/100 [00:08<00:00, 11.24it/s]\n",
      "tile4 ID05d=43:: 100%|███████████████████████████████████████████████████████████████| 100/100 [00:08<00:00, 11.25it/s]\n",
      "tile4 ID05d=44:: 100%|███████████████████████████████████████████████████████████████| 100/100 [00:08<00:00, 11.24it/s]\n",
      "tile4 ID05d=45:: 100%|███████████████████████████████████████████████████████████████| 100/100 [00:08<00:00, 11.25it/s]\n",
      "tile4 ID05d=46:: 100%|███████████████████████████████████████████████████████████████| 100/100 [00:08<00:00, 11.25it/s]\n",
      "tile4 ID05d=47:: 100%|███████████████████████████████████████████████████████████████| 100/100 [00:08<00:00, 11.25it/s]\n",
      "tile4 ID05d=48:: 100%|███████████████████████████████████████████████████████████████| 100/100 [00:08<00:00, 11.26it/s]\n",
      "tile4 ID05d=49:: 100%|███████████████████████████████████████████████████████████████| 100/100 [00:08<00:00, 11.23it/s]\n"
     ]
    },
    {
     "name": "stdout",
     "output_type": "stream",
     "text": [
      "RF Training & predicting...\n"
     ]
    }
   ],
   "source": [
    "all_sure, all_unsure_CNNpred, all_unsure_CNNpred_offseted = [], [], [] # 需要导出CNN预测样本点为csv时使用\n",
    "for tileNum in range(10):\n",
    "    # 1. 生成随机森林样本-------------------------------------------------------------------------------------------------------------------------------------------------------------------------\n",
    "    idList_05d = list(range(tileNum*10, (tileNum+1)*10, 1))\n",
    "    idList_01d = IDlist_01d[tileNum*10:(tileNum+1)*10]\n",
    "    print(\"\\n[Grid%d:Tile%d] %s\" % (ID5d, tileNum, time.ctime()))\n",
    "    print(\"%s\" % \"-\"*80)\n",
    "\n",
    "    # if not all needed ge/ff01/ff05 are found, wait until all needs are satisfied\n",
    "    while(not common.checkExists_ffge(dataPath, ID5d, idList_05d, idList_01d)):\n",
    "        # time.sleep(120)\n",
    "        for id05d in idList_05d:\n",
    "            f05d = grid05d.filterMetadata(\"ID_05d\", \"equals\", id05d).first()\n",
    "            f01d = grid01d.filterMetadata(\"ID_05d\", \"equals\", id05d).first()\n",
    "            common.download_ffge(dataPath, feature05=f05d, feature01=f01d, forest_fuse=forest_fuse)\n",
    "\n",
    "    print(\"Generating samples for RF: \")\n",
    "    llListFS_list, llListFU_list, llListFU_offseted_list = [], [], []\n",
    "    for idx, ID05d in enumerate(idList_05d):\n",
    "        ID01d = grid01d.filterMetadata(\"ID_05d\", \"equals\", ID05d).first().getNumber(\"ID_01d\").getInfo()\n",
    "        # get full llList\n",
    "        llList05_full = common.getLonLatListFromImage(dataPath_curGrid + \"/ff05_%d_%d.tif\" % (ID5d, ID05d))\n",
    "        llList01_full = common.getLonLatListFromImage(dataPath_curGrid + \"/ff01_%d_%d_%d.tif\" % (ID5d, ID05d, ID01d))\n",
    "        llList05_sure_pos, llList05_sure_neg, llList05_unsure = common.getSP_SN_USsplit(llList05_full)\n",
    "        llList01_sure_pos, llList01_sure_neg, llList01_unsure = common.getSP_SN_USsplit(llList01_full)\n",
    "        llList_sure_pos, llList_sure_neg, llList_unsure = llList05_sure_pos, llList05_sure_neg, llList01_unsure\n",
    "\n",
    "        # sample from llList, balance sure_pos and sure_neg\n",
    "        sampleNum_sure = min([sureSampleNum // 2, llList_sure_pos.shape[0], llList_sure_neg.shape[0]])\n",
    "        sampleNum_unsure = min(unsureSampleNum, llList_unsure.shape[0])\n",
    "        # use sure sample as supplement when unsure sample is too few\n",
    "        if sampleNum_unsure < unsureSampleNum:\n",
    "            sampleNum_sure += ((unsureSampleNum - sampleNum_unsure) // 2)\n",
    "        elif sampleNum_sure < (sureSampleNum // 2):\n",
    "            sampleNum_unsure += (sureSampleNum - (sampleNum_sure * 2)) \n",
    "\n",
    "        np.random.seed(0)\n",
    "\n",
    "        sp_idx = np.random.choice(np.arange(llList_sure_pos.shape[0]), size=sampleNum_sure, replace=False)\n",
    "        sn_idx = np.random.choice(np.arange(llList_sure_neg.shape[0]), size=sampleNum_sure, replace=False)\n",
    "        us_idx = np.random.choice(np.arange(llList_unsure.shape[0]), size=sampleNum_unsure, replace=False)\n",
    "        llList_sure_pos, llList_sure_neg, llList_unsure = llList_sure_pos[sp_idx, ...], llList_sure_neg[sn_idx, ...], llList_unsure[us_idx, ...]\n",
    "\n",
    "        # predict unsure area label with CNN\n",
    "        gePath_cur = dataPath_curGrid + \"/ge_%d_%d_%d.tif\" % (ID5d, ID05d, ID01d)\n",
    "        assert os.path.exists(gePath_cur), \"google earth image not found\"  \n",
    "        llList_forest_sure, llList_forest_unsure, llList_forest_unsure_offseted = common.getRFSampleList(llList_sure_pos, llList_sure_neg, llList_unsure, model, gePath=gePath_cur, desc=\"tile%d ID05d=%d:\" % (tileNum, ID05d))\n",
    "\n",
    "        # append\n",
    "        llListFS_list.append(llList_forest_sure)\n",
    "        llListFU_list.append(llList_forest_unsure)\n",
    "        llListFU_offseted_list.append(llList_forest_unsure_offseted)\n",
    "\n",
    "        all_sure.extend(llList_forest_sure)\n",
    "        all_unsure_CNNpred_offseted.extend(llList_forest_unsure_offseted)\n",
    "        all_unsure_CNNpred.extend(llList_forest_unsure)\n",
    "\n",
    "# 需要导出样本点为csv时使用\n",
    "# np.savetxt('./grid1038_unsure.csv', all_unsure_CNNpred, fmt=\"%s\", delimiter=\",\")\n",
    "# np.savetxt('./grid1038_unsure_CAMoffseted.csv', all_unsure_CNNpred_offseted, fmt=\"%s\", delimiter=\",\")\n",
    "\n",
    "    # 2. 训练随机森林，并预测当前Tile---------------------------------------------------------------------------------------------------------------------------------------------------------------\n",
    "    print(\"RF Training & predicting...\")\n",
    "    predForest_list = []\n",
    "    for idx, ID05d in enumerate(idList_05d):\n",
    "        random.seed(0)\n",
    "        # ****在此设置使用的RF样本****\n",
    "        # sample_train = common.getRFSampleFC(LC_STN, llListFS_list[idx] + llListFU_offseted_list[idx])\n",
    "        # sample_train = common.getRFSampleFC(LC_STN, llListFS_list[idx] + llListFU_list[idx])\n",
    "        FU_local_Num = min(len(llListFU_offseted_list[idx]), 1500)\n",
    "        sample_train = common.getRFSampleFC(LC_STN, llListFS_list[idx] + random.sample(all_unsure_CNNpred_offseted, max(unsureSampleNum-FU_local_Num, 0)) + random.sample(llListFU_offseted_list[idx], FU_local_Num))\n",
    "        classifier = ee.Classifier.smileRandomForest(numberOfTrees=200, variablesPerSplit=9, minLeafPopulation=1, bagFraction=0.6, maxNodes=None, seed=0).train(sample_train, \"forest\", selVar1)\n",
    "        cur_geom05d = grid05d.filterMetadata(\"ID_05d\", \"equals\", ID05d).first().geometry()\n",
    "        predForest = LC_STN.clip(cur_geom05d).select(selVar1).classify(classifier)\n",
    "        predForest_list.append(predForest)\n",
    "    predTile = ee.ImageCollection(predForest_list).mosaic().uint8().rename(\"forest\")\n",
    "\n",
    "    # 3. 导出-------------------------------------------------------------------------------------------------------------------------------------------------------------------------------------\n",
    "    exportRegion = ee.Algorithms.GeometryConstructors.Rectangle([llLng+(idList_05d[0]//10)*0.5, llLat+(idList_05d[0]%10)*0.5, llLng+(idList_05d[-1]//10+1)*0.5, llLat+(idList_05d[-1]%10+1)*0.5])    \n",
    "    exportName = \"%s_grid%d_tile%d\" % (exportNamePrefix, ID5d, tileNum)\n",
    "\n",
    "    try:\n",
    "        ee.data.listAssets({\"parent\":\"projects/earthengine-legacy/assets/%s\" % (exportAssetPath)})\n",
    "    except Exception as e:\n",
    "        if str(e)[-10:]==\"not found.\":\n",
    "            ee.data.createAsset({\"type\":\"Folder\"}, opt_path=\"projects/earthengine-legacy/assets/%s\" % (exportAssetPath))\n",
    "    task = ee.batch.Export.image.toAsset(predTile.clip(exportRegion), description=exportName, assetId=\"projects/earthengine-legacy/assets/%s/%s\" % (exportAssetPath, exportName), pyramidingPolicy={\"forest\":\"mode\"}, region=exportRegion, scale=30, maxPixels=1e13)\n",
    "    task.start()\n",
    "    print(\"Predicting finished. Grid%d tile%d exporting task started...\\n\" % (ID5d, tileNum))"
   ]
  },
  {
   "cell_type": "markdown",
   "metadata": {},
   "source": [
    "# 6. Metrics"
   ]
  },
  {
   "cell_type": "code",
   "execution_count": 5,
   "metadata": {
    "tags": []
   },
   "outputs": [
    {
     "output_type": "stream",
     "name": "stdout",
     "text": [
      "Generating URL ...\n",
      "Downloading data from https://earthengine.googleapis.com/v1alpha/projects/earthengine-legacy/tables/974b33c4a1207a69ef5b1ddf7672fdca-6636c7f5c085c8a2bf94510c221224b2:getFeatures\n",
      "Please wait ...\n",
      "Data downloaded to f:\\SZT\\Repo\\GEE-GE_Integrated_Forest_Mapping\\foo.csv\n"
     ]
    }
   ],
   "source": [
    "fuckyourassMTFK = 1\n",
    "while(fuckyourassMTFK):\n",
    "    try:\n",
    "        productList = [forest_gong, forest_ygs, forest_liu, forest_chen, forest_hs]\n",
    "        # productList = [forest_gong,]\n",
    "        productNameList = [\"Forestgong\", \"Forestygs\", \"Forestliu\", \"Forestchen\", \"Foresths\"]\n",
    "        # productNameList = [\"Forestgong\"]\n",
    "        predDict = {\n",
    "                    \"forestPred_onlySure\":\"users/thomasshen99/ForestPred_onlySure_1213\", \n",
    "                    \"forestPred_withUnsureByCNN\":\"users/thomasshen99/ForestPred_CNNoriginal_1213\", \n",
    "                    \"forestPred_withUnsureByCNN_CAMoffseted\":\"users/thomasshen99/ForestPred_CAMoffseted_1212\", \n",
    "                    \"forestPred_onlyUnsure_CAMoffseted\":\"users/thomasshen99/ForestPred_onlyUnsure_CAMoffseted_1214\", \n",
    "                    \"forestPred_onlyUnsure_CAMoffseted_global\":\"users/thomasshen99/ForestPred_onlyUnsure_CAMoffseted_global_1214\", \n",
    "                    \"forestPred_onlySure_global\":\"users/thomasshen99/ForestPred_onlySure_global_1215\", \n",
    "                    \"forestPred_localSure_globalUnsure_1216\":\"users/thomasshen99/ForestPred_localSure_globalUnsure_1216\", \n",
    "                    \"forestPred_CAMoffseted_biClass\":\"users/thomasshen99/ForestPred_CAMoffseted_biClass\", \n",
    "                    \"forestPred_CAMoffseted_biClass_123unsure\":\"users/thomasshen99/ForestPred_localSure_globalUnsure_biClass_offset_0320\"}\n",
    "\n",
    "        valPoints_cur = utils.getBalancedValPoints(valPoints_all, region=selected5d.geometry(), maxRate=4)\n",
    "\n",
    "        # predictions\n",
    "        for key in predDict.keys():\n",
    "            pred = ee.ImageCollection(list(map(lambda x:x['id'], ee.data.listAssets({\"parent\":\"projects/earthengine-legacy/assets/%s\" % predDict[key]})['assets']))).mosaic().rename(key)\n",
    "            productList.append(pred)\n",
    "            productNameList.append(key)\n",
    "            \n",
    "        # stack all product in productList & sample value to valPoints_cur\n",
    "        productComp = ee.Image.cat(productList)\n",
    "        valPoints_cur_sampled = productComp.sampleRegions(collection=valPoints_cur, geometries=False, scale=30)\n",
    "\n",
    "        # calculate metrics and forest area, combine all in to a ee.FeatureCollection\n",
    "        areaDict = ee.Dictionary(utils.CalcArea(productComp, selected5d.geometry()))\n",
    "        metricsDictList = ee.List(productNameList).map(utils.getCalcMetricsFunc(valPoints_cur_sampled, areaDict))\n",
    "        metricsFC = ee.FeatureCollection(metricsDictList.map(lambda x:ee.Feature(None, x)))\n",
    "        \n",
    "        geemap.ee_export_vector(metricsFC, \"./foo.csv\")\n",
    "        fuckyourassMTFK = 0\n",
    "\n",
    "    except Exception as e:\n",
    "        print(\"Trying %s: \" % fuckyourassMTFK)\n",
    "        print(e)\n",
    "        fuckyourassMTFK += 1\n",
    "        pass"
   ]
  },
  {
   "cell_type": "markdown",
   "metadata": {},
   "source": [
    "# 5. View GEE data with geemap"
   ]
  },
  {
   "cell_type": "code",
   "execution_count": 6,
   "metadata": {},
   "outputs": [
    {
     "output_type": "display_data",
     "data": {
      "text/plain": "Map(center=[56, 26], controls=(WidgetControl(options=['position'], widget=HBox(children=(ToggleButton(value=Fa…",
      "application/vnd.jupyter.widget-view+json": {
       "version_major": 2,
       "version_minor": 0,
       "model_id": "0a21278eca3e475b931cd7697f77b697"
      }
     },
     "metadata": {}
    }
   ],
   "source": [
    "Map = geemap.Map(center=[56, 26], zoom=12, add_google_map=True)\n",
    "Map.add_basemap('Google Satellite')\n",
    "\n",
    "Map.addLayer(LC_STN.clip(selected5d), vis_params={\"max\":2000, \"min\":0, \"bands\":['B4', 'B3', 'B2']}, name=\"LC08\")\n",
    "\n",
    "Map.addLayer(forest_gong.clip(selected5d), vis_params={\"max\":1, \"min\":0, \"palette\":[\"FF0000\", \"00FF00\"]}, name=\"forest_gong\")\n",
    "Map.addLayer(forest_liu.clip(selected5d), vis_params={\"max\":1, \"min\":0, \"palette\":[\"FF0000\", \"00FF00\"]}, name=\"forest_gong\")\n",
    "Map.addLayer(forest_fuse.clip(selected5d), vis_params={\"max\":5, \"min\":0, \"palette\":[\"FF0000\", \"FF0000\", \"FFFF00\", \"FFFF00\", \"00FF00\", \"00FF00\"]}, name=\"forest_fuse\", opacity=1)\n",
    "\n",
    "for key in predDict.keys():\n",
    "    Map.addLayer(productComp.select(key), vis_params={\"max\":1, \"min\":0, \"palette\":[\"FF0000\", \"00FF00\"]}, name=\"forest_pred_%s\" % key, opacity=1)\n",
    "\n",
    "\n",
    "Map.addLayerControl()\n",
    "Map.setCenter(selected5d.getNumber(\"centLng\").getInfo(), selected5d.getNumber(\"centLat\").getInfo(), 8)\n",
    "Map"
   ]
  },
  {
   "cell_type": "code",
   "execution_count": null,
   "metadata": {},
   "outputs": [],
   "source": []
  }
 ],
 "metadata": {
  "kernelspec": {
   "display_name": "Python 3",
   "language": "python",
   "name": "python3"
  },
  "language_info": {
   "codemirror_mode": {
    "name": "ipython",
    "version": 3
   },
   "file_extension": ".py",
   "mimetype": "text/x-python",
   "name": "python",
   "nbconvert_exporter": "python",
   "pygments_lexer": "ipython3",
   "version": "3.8.3-final"
  }
 },
 "nbformat": 4,
 "nbformat_minor": 4
}