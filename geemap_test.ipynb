{
 "cells": [
  {
   "cell_type": "code",
   "execution_count": 1,
   "metadata": {},
   "outputs": [],
   "source": [
    "import ee\n",
    "try:\n",
    "    ee.Initialize()\n",
    "except:\n",
    "    ee.Authenticate()\n",
    "    ee.Initialize()\n",
    "import geemap\n"
   ]
  },
  {
   "cell_type": "code",
   "execution_count": 2,
   "metadata": {},
   "outputs": [],
   "source": [
    "import os\n",
    "import random\n",
    "import numpy as np\n",
    "import matplotlib.pyplot as plt\n",
    "import torch\n",
    "import cv2\n",
    "\n",
    "import gdal\n",
    "import utils\n",
    "import common\n",
    "import dataset\n",
    "import GetMapTiles\n",
    "from models.ResNet import ResNet101"
   ]
  },
  {
   "cell_type": "code",
   "execution_count": 3,
   "metadata": {},
   "outputs": [],
   "source": [
    "# Adds Earth Engine dataset\n",
    "worldBoundary = ee.FeatureCollection(\"users/liuph/shape/WorldBoundary\")\n",
    "ChinaBoundary = ee.FeatureCollection(\"users/410093033/China\")\n",
    "\n",
    "fuseImage = ee.ImageCollection('users/410093033/yizhixing').min().rename(\"fuseImage\")\n",
    "forest23 = fuseImage.expression(\"b(0)>=2&&b(0)<=3\").rename(\"forest23\")\n",
    "\n",
    "# add landsat80------------------------------------------------------------------------------------\n",
    "Landsat = ee.ImageCollection(\"LANDSAT/LC08/C01/T1_SR\")\n",
    "selVar = ee.List(['B2', 'B3', 'B4', 'B5', 'B6', 'B7','pixel_qa'])\n",
    "LC = Landsat.filter(ee.Filter.calendarRange(2020, 2020, 'year')).select(selVar).map(utils.maskL8sr)\n",
    "selVar = ee.List(['B2', 'B3', 'B4', 'B5', 'B6', 'B7'])\n",
    "LC = LC.select(selVar).median()\n",
    "\n",
    "ndvi = LC.normalizedDifference(['B5', 'B4']).rename('NDVI')\n",
    "ndwi = LC.normalizedDifference(['B3', 'B5']).rename('NDWI')\n",
    "DEM = ee.Image(\"MERIT/DEM/v1_0_3\")\n",
    "terrain = ee.Algorithms.Terrain(DEM)\n",
    "slope = terrain.select('slope')\n",
    "stratified_classes = ndvi.expression('(b(0)/0.2)').int().rename('STRATIFIED_CLASSES')\n",
    "LC_STN = LC.addBands(ndvi).addBands(ndwi).addBands(slope).addBands(stratified_classes).float()\n",
    "\n",
    "selVar1 = ee.List(['B2', 'B3', 'B4', 'B5', 'B6', 'B7','NDVI','NDWI','slope'])\n"
   ]
  },
  {
   "cell_type": "code",
   "execution_count": 4,
   "metadata": {},
   "outputs": [],
   "source": [
    "path_fuseImage = r\"./fused_01.tif\"\n",
    "path_ge = r\"./ge_17.tif\"\n",
    "\n",
    "padding = 0.002\n",
    "\n",
    "xmin = 111.0\n",
    "ymin = 30.0\n",
    "xmax = 111.1\n",
    "ymax = 30.1\n",
    "\n",
    "rect = ee.Algorithms.GeometryConstructors.Rectangle(ee.List([xmin, ymin, xmax, ymax]))"
   ]
  },
  {
   "cell_type": "code",
   "execution_count": 5,
   "metadata": {
    "tags": []
   },
   "outputs": [],
   "source": [
    "if not os.path.exists(path_ge):\n",
    "    GetMapTiles.getpic_tif(xmin-padding, ymax+padding, xmax+padding, ymin-padding, 17, source='google', out_filename=path_ge, style='s')\n",
    "if not os.path.exists(path_fuseImage):\n",
    "    geemap.ee_export_image(fuseImage, path_fuseImage, scale=30, region=rect)"
   ]
  },
  {
   "cell_type": "code",
   "execution_count": 6,
   "metadata": {},
   "outputs": [],
   "source": [
    "llList_full = common.getLonLatListFromImage(path_fuseImage)\n",
    "idx_unsure = np.where((llList_full[:, 2]==2) + (llList_full[:, 2]==3))[0]\n",
    "idx_sure_pos = np.where((llList_full[:, 2]==4) + (llList_full[:, 2]==5))[0]\n",
    "idx_sure_neg = np.where((llList_full[:, 2]==0) + (llList_full[:, 2]==1))[0]\n",
    "\n",
    "llList_unsure = llList_full[idx_unsure]\n",
    "llList_sure_pos = llList_full[idx_sure_pos]\n",
    "llList_sure_neg = llList_full[idx_sure_neg]"
   ]
  },
  {
   "cell_type": "code",
   "execution_count": 8,
   "metadata": {},
   "outputs": [
    {
     "output_type": "stream",
     "name": "stderr",
     "text": [
      "100%|██████████| 859/859 [01:13<00:00, 11.75it/s]\n"
     ]
    }
   ],
   "source": [
    "dataLoader = dataset.getLonLatDataLoader(llList_unsure[:, 0:2], local=True, imgSavePath=path_ge, BSize=16, nWorkers=0, pinMem=True, APIKEY=None)\n",
    "model = ResNet101(in_ch=3, n_classes=5)\n",
    "pred, offset = common.inference(model, data_loader=dataLoader, device=torch.device('cuda:0'), device_ids=(0,), comment=\"ResNet101_GE17_1206\", save_path=\"./CKPT/\")\n",
    "predforest = (pred.cpu().numpy()==0).astype(np.int)"
   ]
  },
  {
   "cell_type": "code",
   "execution_count": 29,
   "metadata": {},
   "outputs": [],
   "source": [
    "# get all sample as 0-1 list\n",
    "llList_forest_sure_pos = llList_sure_pos.copy()\n",
    "llList_forest_sure_neg = llList_sure_neg.copy()\n",
    "llList_forest_unsure = llList_unsure.copy()\n",
    "\n",
    "llList_forest_sure_pos[:, 2] = (llList_sure_pos[:, 2]>=4).astype(np.int)\n",
    "llList_forest_sure_neg[:, 2] = (llList_sure_neg[:, 2]>=4).astype(np.int)\n",
    "llList_forest_unsure[:, 2] = predforest\n",
    "\n",
    "# apply offset to llList_forest_unsure\n",
    "llList_forest_unsure_offseted = llList_forest_unsure.copy()\n",
    "llList_forest_unsure_offseted[:, [0, 1]] += offset.cpu().numpy()\n",
    "\n",
    "# select equal samples from sure_pos, sure_neg from sure area\n",
    "sampleNum = 4000\n",
    "llList_forest_sure_pos_sample = random.sample(llList_forest_sure_pos.tolist(), sampleNum)\n",
    "llList_forest_sure_neg_sample = random.sample(llList_forest_sure_neg.tolist(), sampleNum)\n",
    "\n",
    "# select samples from unsure area\n",
    "unsure_sample_idx = random.sample(list(range(0, llList_forest_unsure.shape[0])), 4000)\n",
    "llList_forest_unsure_sample = llList_forest_unsure[unsure_sample_idx].tolist()\n",
    "llList_forest_unsure_offseted_sample = llList_forest_unsure_offseted[unsure_sample_idx].tolist()"
   ]
  },
  {
   "cell_type": "code",
   "execution_count": 30,
   "metadata": {},
   "outputs": [],
   "source": [
    "rect_05 = ee.Algorithms.GeometryConstructors.Rectangle(ee.List([xmin-0.2, ymin-0.2, xmax+0.3, ymax+0.3]))\n",
    "\n",
    "llList_forest_sample = llList_forest_sure_pos_sample + llList_forest_sure_neg_sample + llList_forest_unsure_sample\n",
    "llList_forest_sample_offseted = llList_forest_sure_pos_sample + llList_forest_sure_neg_sample + llList_forest_unsure_offseted_sample\n",
    "\n",
    "# pred with original samples\n",
    "CrdClsList = ee.List(llList_forest_sample)\n",
    "mapped = CrdClsList.map(lambda x : ee.Feature(ee.Algorithms.GeometryConstructors.Point(ee.List(x).slice(0, 2)), {\"forest\":ee.List(x).get(2)}))\n",
    "fc_points = ee.FeatureCollection(mapped)\n",
    "sample_train = LC_STN.sampleRegions(collection=fc_points, geometries=True, scale=30)\n",
    "classifier = ee.Classifier.smileRandomForest(numberOfTrees=200, variablesPerSplit=9, minLeafPopulation=1, bagFraction=0.5, maxNodes=None, seed=0).train(sample_train, \"forest\", selVar1)\n",
    "predForest = LC_STN.clip(rect_05).select(selVar1).classify(classifier)\n",
    "\n",
    "# pred with offseted samples\n",
    "CrdClsList_offseted = ee.List(llList_forest_sample_offseted)\n",
    "mapped = CrdClsList_offseted.map(lambda x : ee.Feature(ee.Algorithms.GeometryConstructors.Point(ee.List(x).slice(0, 2)), {\"forest\":ee.List(x).get(2)}))\n",
    "fc_points_offseted = ee.FeatureCollection(mapped)\n",
    "sample_train_offseted = LC_STN.sampleRegions(collection=fc_points_offseted, geometries=True, scale=30)\n",
    "classifier = ee.Classifier.smileRandomForest(numberOfTrees=200, variablesPerSplit=9, minLeafPopulation=1, bagFraction=0.5, maxNodes=None, seed=0).train(sample_train_offseted, \"forest\", selVar1)\n",
    "predForest_offseted = LC_STN.clip(rect_05).select(selVar1).classify(classifier)"
   ]
  },
  {
   "cell_type": "code",
   "execution_count": null,
   "metadata": {},
   "outputs": [],
   "source": [
    "Map = geemap.Map(center=[30, 111], zoom=10, add_google_map=True)\n",
    "\n",
    "\n",
    "Map.addLayer(LC_STN.clip(rect_05), vis_params={\"max\":2000, \"min\":0, \"bands\":['B4', 'B3', 'B2']}, name=\"LC08\")\n",
    "Map.addLayer(predForest, vis_params={\"max\":1, \"min\":0, \"palette\":[\"FF0000\", \"00FF00\"]}, name=\"pred\", opacity=1)\n",
    "Map.addLayer(predForest_offseted, vis_params={\"max\":1, \"min\":0, \"palette\":[\"FF0000\", \"00FF00\"]}, name=\"pred_offseted\", opacity=1)\n",
    "Map.addLayer(fuseImage.clip(rect_05), vis_params={\"max\":5, \"min\":0, \"palette\":[\"FF0000\", \"880000\", \"FF9900\", \"FFFF00\", \"00FF00\", \"00FF00\"]}, name=\"fuseImage\", opacity=1)\n",
    "\n",
    "# original sample\n",
    "Map.addLayer(fc_points.filterMetadata(\"forest\", 'equals', 1).draw(color='00FF00', pointRadius=1), name=\"sample_pos\")\n",
    "Map.addLayer(fc_points.filterMetadata(\"forest\", 'equals', 0).draw(color='FF0000', pointRadius=1), name=\"sample_neg\")\n",
    "\n",
    "# offseted sample\n",
    "Map.addLayer(fc_points_offseted.filterMetadata(\"forest\", 'equals', 1).draw(color='00FFAA', pointRadius=1), name=\"sample_pos_offseted\")\n",
    "Map.addLayer(fc_points_offseted.filterMetadata(\"forest\", 'equals', 0).draw(color='FFAA00', pointRadius=1), name=\"sample_neg_offseted\")\n",
    "\n",
    "Map.add_basemap('Google Satellite')\n",
    "Map.addLayerControl()\n",
    "Map"
   ]
  }
 ],
 "metadata": {
  "kernelspec": {
   "name": "python3",
   "display_name": "Python 3.8.3 64-bit (conda)",
   "metadata": {
    "interpreter": {
     "hash": "b3ba2566441a7c06988d0923437866b63cedc61552a5af99d1f4fb67d367b25f"
    }
   }
  },
  "language_info": {
   "codemirror_mode": {
    "name": "ipython",
    "version": 3
   },
   "file_extension": ".py",
   "mimetype": "text/x-python",
   "name": "python",
   "nbconvert_exporter": "python",
   "pygments_lexer": "ipython3",
   "version": "3.8.3-final"
  }
 },
 "nbformat": 4,
 "nbformat_minor": 4
}