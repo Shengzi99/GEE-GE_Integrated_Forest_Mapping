{
 "cells": [
  {
   "cell_type": "markdown",
   "metadata": {},
   "source": [
    "# 1. Authenticate & Import"
   ]
  },
  {
   "cell_type": "code",
   "execution_count": null,
   "metadata": {},
   "outputs": [],
   "source": [
    "import ee\n",
    "# 网不好的时候自动重试ee.Initialize()\n",
    "print(\"Try init ee...\", end=\" \")\n",
    "eeInited, tryCounts = False, 0\n",
    "while not eeInited:\n",
    "    print(\"%d\" % tryCounts, end=\" \")\n",
    "    try:\n",
    "        ee.Initialize()\n",
    "    except Exception as e:\n",
    "        if (str(e)[0:23]==\"Please authorize access\"):\n",
    "            ee.Authenticate()\n",
    "        tryCounts += 1\n",
    "    else:\n",
    "        eeInited = True\n",
    "        print(\"\\nee initialized!\")\n",
    "\n",
    "import geemap"
   ]
  },
  {
   "cell_type": "code",
   "execution_count": null,
   "metadata": {},
   "outputs": [],
   "source": [
    "import os\n",
    "os.environ[\"KMP_DUPLICATE_LIB_OK\"]=\"TRUE\"\n",
    "import gc\n",
    "import time\n",
    "import random\n",
    "import numpy as np\n",
    "import matplotlib as mpl\n",
    "import matplotlib.pyplot as plt\n",
    "import torch\n",
    "import torch.nn as nn\n",
    "import cv2\n",
    "\n",
    "import gdal\n",
    "import utils\n",
    "import common\n",
    "import dataset\n",
    "import GetMapTiles\n",
    "from models.ResNet import ResNet101"
   ]
  },
  {
   "cell_type": "markdown",
   "metadata": {},
   "source": [
    "# 2. Import Earth Engine Data"
   ]
  },
  {
   "cell_type": "code",
   "execution_count": null,
   "metadata": {},
   "outputs": [],
   "source": [
    "# Boundary and Grid-----------------------------------------------------------------------------------------------------\n",
    "worldBoundary = ee.FeatureCollection(\"users/liuph/shape/WorldBoundary\")\n",
    "ChinaBoundary = ee.FeatureCollection(\"users/410093033/China\")\n",
    "WorldGrid5d = ee.FeatureCollection(\"users/liuph/shape/WorldGrid5dC5\")\n",
    "\n",
    "# Fusion of landcover products------------------------------------------------------------------------------------------\n",
    "# forest_fuse = forest_gong.add(forest_ygs).add(forest_liu).add(forest_chen).add(forest_hs).rename(\"ForestFuse\")\n",
    "# forest_fuse = ee.ImageCollection('users/sysushiqian/forestFuse2020').min().rename(\"forest_fuse\")\n",
    "forest_fuse = ee.ImageCollection('users/sysushiqian/forestFuse2020_new').min().rename(\"ForestFuse\")"
   ]
  },
  {
   "cell_type": "code",
   "execution_count": null,
   "metadata": {
    "tags": []
   },
   "outputs": [],
   "source": [
    "totalGrid = ee.FeatureCollection(\"users/sunly3456/globalGrids/globalGt60Grids/forest23gt60gridsAll\")\n",
    "totalGridIdxList = list(range(1, 100))\n",
    "\n",
    "dataPath = r\"E:/SZT/Data/Forest/densePredData\"\n",
    "predPath = r\"./densePred\"\n",
    "\n",
    "\n",
    "# 按totalGridIdxList中的索引，依次预测对应0.1度格网\n",
    "for gridIdx in totalGridIdxList:\n",
    "    ID_5d = totalGrid.filterMetadata(\"orderID\", \"equals\", gridIdx).first().getNumber(\"gridID\").getInfo()\n",
    "    fNamePostfix = \"_%d_%d.tif\" % (ID_5d, gridIdx)\n",
    "\n",
    "    curFFPath = dataPath + \"/FF01\" + fNamePostfix\n",
    "    curGEPath = dataPath + \"/GE17\" + fNamePostfix\n",
    "    predSavePath = predPath + \"/densePred\" + fNamePostfix\n",
    "\n",
    "    print(\"\\n[Grid5d=%d Grid01d=%d] %s\" % (ID_5d, gridIdx, time.ctime()))\n",
    "    print(\"%s\" % \"-\"*80)\n",
    "\n",
    "    if os.path.exists(predSavePath):\n",
    "        print(\"grid01d %d prediction found\" % gridIdx)\n",
    "\n",
    "        time.sleep(2)\n",
    "\n",
    "        geImg = cv2.imread(curGEPath, -1)[:, :, [2, 1, 0]]\n",
    "        ffImg = cv2.imread(curFFPath, -1)\n",
    "        predImg = cv2.imread(predSavePath, -1)\n",
    "\n",
    "        # 预览\n",
    "        plt.figure(figsize=(60, 20))\n",
    "        plt.subplot(1, 3, 1)\n",
    "        plt.imshow(geImg)\n",
    "        plt.title(\"Google Earth\")\n",
    "        plt.subplot(1, 3, 2)\n",
    "        ffImg[0, 0] = 6\n",
    "        plt.imshow(ffImg, cmap=mpl.colors.ListedColormap([\"#FF0000\", \"#FF0000\", \"#0000FF\", \"#0000FF\", \"#00FF00\", \"#00FF00\"], \"forestfusion\", N=6))\n",
    "        plt.title(\"forest products fusion\")\n",
    "        plt.subplot(1, 3, 3)\n",
    "        predImg[0, 0] = 5\n",
    "        plt.imshow(predImg, cmap=mpl.colors.ListedColormap([\"#00FF00\", \"#555555\", \"#FF0000\", \"#FF0000\", \"#0000FF\"], \"pred\", N=5))\n",
    "        plt.title(\"dense prediction\")\n",
    "        plt.show()"
   ]
  },
  {
   "cell_type": "code",
   "execution_count": null,
   "metadata": {},
   "outputs": [],
   "source": []
  }
 ],
 "metadata": {
  "kernelspec": {
   "display_name": "Python 3.8.3 64-bit ('base')",
   "language": "python",
   "name": "python38364bitbase90e11b5909da435bb597029e99b8f08b"
  },
  "language_info": {
   "codemirror_mode": {
    "name": "ipython",
    "version": 3
   },
   "file_extension": ".py",
   "mimetype": "text/x-python",
   "name": "python",
   "nbconvert_exporter": "python",
   "pygments_lexer": "ipython3",
   "version": "3.8.3"
  }
 },
 "nbformat": 4,
 "nbformat_minor": 4
}