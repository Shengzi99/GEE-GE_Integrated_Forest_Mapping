{
 "cells": [
  {
   "source": [
    "# 1. Authenticate & Import"
   ],
   "cell_type": "markdown",
   "metadata": {}
  },
  {
   "cell_type": "code",
   "execution_count": 1,
   "metadata": {},
   "outputs": [
    {
     "output_type": "stream",
     "name": "stdout",
     "text": [
      "Try init ee... 0 1 2 3 4 5 6 7 8 \n",
      "ee initialized!\n"
     ]
    }
   ],
   "source": [
    "import ee\n",
    "# 网不好的时候自动重试ee.Initialize()\n",
    "print(\"Try init ee...\", end=\" \")\n",
    "eeInited, tryCounts = False, 0\n",
    "while not eeInited:\n",
    "    print(\"%d\" % tryCounts, end=\" \")\n",
    "    try:\n",
    "        ee.Initialize()\n",
    "    except Exception as e:\n",
    "        if (str(e)[0:23]==\"Please authorize access\"):\n",
    "            ee.Authenticate()\n",
    "        tryCounts += 1\n",
    "    else:\n",
    "        eeInited = True\n",
    "        print(\"\\nee initialized!\")\n",
    "\n",
    "import geemap\n"
   ]
  },
  {
   "cell_type": "code",
   "execution_count": null,
   "metadata": {},
   "outputs": [],
   "source": [
    "import os\n",
    "import time\n",
    "import random\n",
    "import numpy as np\n",
    "import matplotlib.pyplot as plt\n",
    "import torch\n",
    "import torch.nn as nn\n",
    "import cv2\n",
    "\n",
    "import gdal\n",
    "import utils\n",
    "import common\n",
    "import dataset\n",
    "import GetMapTiles\n",
    "from models.ResNet import ResNet101"
   ]
  },
  {
   "source": [
    "# 2. Import Earth Engine Data"
   ],
   "cell_type": "markdown",
   "metadata": {}
  },
  {
   "cell_type": "code",
   "execution_count": null,
   "metadata": {},
   "outputs": [],
   "source": [
    "# Boundary and Grid-----------------------------------------------------------------------------------------------------\n",
    "worldBoundary = ee.FeatureCollection(\"users/liuph/shape/WorldBoundary\")\n",
    "ChinaBoundary = ee.FeatureCollection(\"users/410093033/China\")\n",
    "WorldGrid5d = ee.FeatureCollection(\"users/liuph/shape/WorldGrid5dC5\")\n",
    "\n",
    "# Landcover products----------------------------------------------------------------------------------------------------\n",
    "\n",
    "gong = ee.ImageCollection('users/wangyue/Gong2017Glc30') # gong's data\n",
    "forest_gong = ee.ImageCollection(gong).qualityMosaic(\"b1\").expression(\"b(0)==2?1:0\").rename(\"Forestgong\")\n",
    "\n",
    "dataset = ee.ImageCollection('users/sunly3456/Forest2018ImageCollection') # ygs's data\n",
    "forest_ygs =  ee.ImageCollection(dataset).qualityMosaic(\"b1\").expression(\"b(0)==1?1:0\").rename(\"Forestygs\")\n",
    "\n",
    "liu = ee.ImageCollection('users/wangyue/Glc2020Fcs30').select('b1') # liu's data\n",
    "forest_liu = ee.ImageCollection(liu).qualityMosaic(\"b1\").expression(\"b(0)>=50 && b(0)<=90?1:0\").rename(\"Forestliu\")\n",
    "\n",
    "lc = ee.ImageCollection('users/sunly3456/GLC2020') # Chen's data\n",
    "forest_chen = ee.ImageCollection(lc).qualityMosaic(\"b1\").expression(\"b(0)==20?1:0\").rename(\"Forestchen\")\n",
    "\n",
    "dataset = ee.Image('UMD/hansen/global_forest_change_2019_v1_7') # Hansen's data\n",
    "start2000 = ee.Image(dataset).select('treecover2000').expression(\"b(0)>30&&b(0)<=100?1:0\").rename(\"start00\")\n",
    "loss00_19 = ee.Image(dataset).expression(\"b(3)>1&&b(3)<=19?1:0\").rename(\"loss00_19\")\n",
    "gain00_12 = ee.Image(dataset).expression(\"b(2)==1?1:0\").rename(\"gain00_12\")\n",
    "forest_hs = start2000.add(gain00_12).subtract(loss00_19).expression(\"b(0)>0?1:0\").rename(\"Foresths\")\n",
    "\n",
    "# Fusion of landcover products------------------------------------------------------------------------------------------\n",
    "# forest_fuse = forest_gong.add(forest_ygs).add(forest_liu).add(forest_chen).add(forest_hs).rename(\"ForestFuse\")\n",
    "# forest_fuse = ee.ImageCollection('users/sysushiqian/forestFuse2020').min().rename(\"forest_fuse\")\n",
    "forest_fuse = ee.ImageCollection('users/sysushiqian/forestFuse2020_new').min().rename(\"ForestFuse\")\n",
    "forest23 = forest_fuse.expression('b(0)>=2 && b(0)<=3')\n",
    "\n",
    "# Landsat8, cloud mask, median; add NDVI,NDWI,slop ---------------------------------------------------------------------\n",
    "Landsat = ee.ImageCollection(\"LANDSAT/LC08/C01/T1_SR\")\n",
    "selVar = ee.List(['B2', 'B3', 'B4', 'B5', 'B6', 'B7','pixel_qa'])\n",
    "LC = Landsat.filter(ee.Filter.calendarRange(2020, 2020, 'year')).select(selVar).map(utils.maskL8sr)\n",
    "selVar = ee.List(['B2', 'B3', 'B4', 'B5', 'B6', 'B7'])\n",
    "LC = LC.select(selVar).median()\n",
    "\n",
    "ndvi = LC.normalizedDifference(['B5', 'B4']).rename('NDVI')\n",
    "ndwi = LC.normalizedDifference(['B3', 'B5']).rename('NDWI')\n",
    "DEM = ee.Image(\"MERIT/DEM/v1_0_3\")\n",
    "terrain = ee.Algorithms.Terrain(DEM)\n",
    "slope = terrain.select('slope')\n",
    "stratified_classes = ndvi.expression('(b(0)/0.2)').int().rename('STRATIFIED_CLASSES')\n",
    "\n",
    "# Composite Image ------------------------------------------------------------------------------------------------------\n",
    "LC_STN = LC.addBands(ndvi).addBands(ndwi).addBands(slope).addBands(stratified_classes).float()\n",
    "selVar1 = ee.List(['B2', 'B3', 'B4', 'B5', 'B6', 'B7','NDVI','NDWI','slope'])\n",
    "\n",
    "# Validation points ----------------------------------------------------------------------------------------------------\n",
    "valPoints_all = ee.FeatureCollection(\"users/410093033/wuzhengyi3\").merge(ee.FeatureCollection(\"users/410093033/youzhengyi1\"))"
   ]
  },
  {
   "source": [
    "# 3. Prepare CNN model & data path"
   ],
   "cell_type": "markdown",
   "metadata": {}
  },
  {
   "cell_type": "code",
   "execution_count": null,
   "metadata": {},
   "outputs": [],
   "source": [
    "\n",
    "ckptPath = r\"./CKPT/ResNet101_GE17_1206/ckpt.pth\"\n",
    "\n",
    "\n",
    "model = ResNet101(in_ch=3, n_classes=5)\n",
    "model.to(torch.device('cuda:0'))\n",
    "assert os.path.exists(ckptPath), \"ckpt dosen't exists\"\n",
    "ckpt = torch.load(ckptPath, map_location=torch.device('cuda:0'))\n",
    "model.load_state_dict(ckpt[\"model\"])\n",
    "# model = nn.DataParallel(model, device_ids=(0, ))"
   ]
  },
  {
   "source": [
    "# 4. Operate on selected 5d grid"
   ],
   "cell_type": "markdown",
   "metadata": {}
  },
  {
   "source": [
    "ID5d = 1038\n",
    "\n",
    "dataPath = r\"E:\\SZT\\Data\\ff0105_ge01\"\n",
    "exportAssetPath = \"users/thomasshen99/ForestPred_onlySure_1212\"\n",
    "exportNamePrefix = exportAssetPath.split('/')[-1]\n",
    "\n",
    "time_start = time.time()\n",
    "dataPath_curGrid = dataPath + \"./grid%d\" % ID5d\n",
    "selected5d = WorldGrid5d.filterMetadata(\"ID\", \"equals\", ID5d).first()\n",
    "llLng, llLat = selected5d.getNumber(\"llLng\").getInfo(), selected5d.getNumber(\"llLat\").getInfo()\n",
    "grid05d, grid01d = utils.get0501Grid(selected5d, forest23)\n",
    "\n",
    "IDlist_01d = grid01d.reduceColumns(ee.Reducer.toList(), [\"ID_01d\"]).get(\"list\").getInfo()"
   ],
   "cell_type": "code",
   "metadata": {},
   "execution_count": null,
   "outputs": []
  },
  {
   "cell_type": "code",
   "execution_count": null,
   "metadata": {
    "tags": []
   },
   "outputs": [],
   "source": [
    "# all_unsure_CNNpred, all_unsure_CNNpred_offseted = [], [] # 需要导出样本点为csv时使用\n",
    "for tileNum in range(10):\n",
    "    # 1. 生成随机森林样本-------------------------------------------------------------------------------------------------------------------------------------------------------------------------\n",
    "    idList_05d = list(range(tileNum*10, (tileNum+1)*10, 1))\n",
    "    idList_01d = IDlist_01d[tileNum*10:(tileNum+1)*10]\n",
    "\n",
    "    print(\"\\n[Grid%d:Tile%d] %s\" % (ID5d, tileNum, time.ctime()))\n",
    "    print(\"%s\" % \"-\"*80)\n",
    "    while(not common.checkExists_ffge(dataPath, ID5d, idList_05d, idList_01d)):\n",
    "        time.sleep(120)\n",
    "\n",
    "    print(\"Generating samples for RF: \")\n",
    "    llListFS_list, llListFU_list, llListFU_offseted_list = [], [], []\n",
    "    for idx, ID05d in enumerate(idList_05d):\n",
    "        ID01d = grid01d.filterMetadata(\"ID_05d\", \"equals\", ID05d).first().getNumber(\"ID_01d\").getInfo()\n",
    "        # get full llList\n",
    "        llList05_full = common.getLonLatListFromImage(dataPath_curGrid + \"/ff05_%d_%d.tif\" % (ID5d, ID05d))\n",
    "        llList01_full = common.getLonLatListFromImage(dataPath_curGrid + \"/ff01_%d_%d_%d.tif\" % (ID5d, ID05d, ID01d))\n",
    "        llList05_sure_pos, llList05_sure_neg, llList05_unsure = common.getSP_SN_USsplit(llList05_full)\n",
    "        llList01_sure_pos, llList01_sure_neg, llList01_unsure = common.getSP_SN_USsplit(llList01_full)\n",
    "        llList_sure_pos, llList_sure_neg, llList_unsure = llList05_sure_pos, llList05_sure_neg, llList01_unsure\n",
    "\n",
    "        # sample from llList\n",
    "        sampleNum_sure = min([2500, llList_sure_pos.shape[0], llList_sure_neg.shape[0]])\n",
    "        sampleNum_unsure = min(3200, llList_unsure.shape[0])\n",
    "        np.random.seed(0)\n",
    "\n",
    "        sp_idx = np.random.choice(np.arange(llList_sure_pos.shape[0]), size=sampleNum_sure, replace=False)\n",
    "        sn_idx = np.random.choice(np.arange(llList_sure_neg.shape[0]), size=sampleNum_sure, replace=False)\n",
    "        us_idx = np.random.choice(np.arange(llList_unsure.shape[0]), size=sampleNum_unsure, replace=False)\n",
    "        llList_sure_pos, llList_sure_neg, llList_unsure = llList_sure_pos[sp_idx, ...], llList_sure_neg[sn_idx, ...], llList_unsure[us_idx, ...]\n",
    "\n",
    "        # predict unsure area label with CNN\n",
    "        gePath_cur = dataPath_curGrid + \"/ge_%d_%d_%d.tif\" % (ID5d, ID05d, ID01d)\n",
    "        assert os.path.exists(gePath_cur), \"google earth image not found\"  \n",
    "        llList_forest_sure, llList_forest_unsure, llList_forest_unsure_offseted = common.getRFSampleList(llList_sure_pos,llList_sure_neg, llList_unsure, model, gePath=gePath_cur, desc=\"tile%d ID05d=%d:\" % (tileNum, ID05d))\n",
    "\n",
    "        # append\n",
    "        llListFS_list.append(llList_forest_sure)\n",
    "        llListFU_list.append(llList_forest_unsure)\n",
    "        llListFU_offseted_list.append(llList_forest_unsure_offseted)\n",
    "\n",
    "# 需要导出样本点为csv时使用\n",
    "        # all_unsure_CNNpred_offseted.extend(llList_forest_unsure_offseted)\n",
    "        # all_unsure_CNNpred.extend(llList_forest_unsure)\n",
    "# np.savetxt('./grid1038_unsure.csv', all_unsure_CNNpred, fmt=\"%s\", delimiter=\",\")\n",
    "# np.savetxt('./grid1038_unsure_CAMoffseted.csv', all_unsure_CNNpred_offseted, fmt=\"%s\", delimiter=\",\")\n",
    "\n",
    "    # 2. 训练随机森林，并预测当前Tile---------------------------------------------------------------------------------------------------------------------------------------------------------------\n",
    "    print(\"RF Training & predicting...\")\n",
    "    predForest_list = []\n",
    "    for idx, ID05d in enumerate(idList_05d):\n",
    "        # ****在此设置使用的RF样本****        \n",
    "        sample_train = common.getRFSampleFC(LC_STN, llListFS_list[idx] + llListFU_offseted_list[idx])\n",
    "        # sample_train = common.getRFSampleFC(LC_STN, llListFS_list[idx] + llListFU_list[idx])\n",
    "\n",
    "        classifier = ee.Classifier.smileRandomForest(numberOfTrees=200, variablesPerSplit=9, minLeafPopulation=1, bagFraction=0.5, maxNodes=None, seed=0).train(sample_train, \"forest\", selVar1)\n",
    "        cur_geom05d = grid05d.filterMetadata(\"ID_05d\", \"equals\", ID05d).first().geometry()\n",
    "        predForest = LC_STN.clip(cur_geom05d).select(selVar1).classify(classifier)\n",
    "        predForest_list.append(predForest)\n",
    "    predTile = ee.ImageCollection(predForest_list).mosaic().uint8().rename(\"forest\")\n",
    "\n",
    "    # 3. 导出-------------------------------------------------------------------------------------------------------------------------------------------------------------------------------------\n",
    "    exportRegion = ee.Algorithms.GeometryConstructors.Rectangle([llLng+(idList_05d[0]//10)*0.5, llLat+(idList_05d[0]%10)*0.5, llLng+(idList_05d[-1]//10+1)*0.5, llLat+(idList_05d[-1]%10+1)*0.5])    \n",
    "    exportName = \"%s_grid%d_tile%d\" % (exportNamePrefix, ID5d, tileNum)\n",
    "\n",
    "    try:\n",
    "        ee.data.listAssets({\"parent\":\"projects/earthengine-legacy/assets/%s\" % (exportAssetPath)})\n",
    "    except Exception as e:\n",
    "        if str(e)[-10:]==\"not found.\":\n",
    "            ee.data.createAsset({\"type\":\"Folder\"}, opt_path=\"projects/earthengine-legacy/assets/%s\" % (exportAssetPath))\n",
    "    # geemap.ee_export_image_to_drive(predTile.clip(exportRegion), exportName, folder=\"GEEexport\", region=exportRegion, scale=30, max_pixels=1.0E13, file_format='GeoTIFF')\n",
    "    task = ee.batch.Export.image.toAsset(predTile.clip(exportRegion), description=exportName, assetId=\"projects/earthengine-legacy/assets/%s/%s\" % (exportAssetPath, exportName), pyramidingPolicy={\"forest\":\"mode\"}, region=exportRegion, scale=30, maxPixels=1e13)\n",
    "    task.start()\n",
    "    print(\"Predicting finished. Grid%d tile%d exporting task started...\\n\" % (ID5d, tileNum))"
   ]
  },
  {
   "source": [
    "# 6. Metrics"
   ],
   "cell_type": "markdown",
   "metadata": {}
  },
  {
   "cell_type": "code",
   "execution_count": null,
   "metadata": {},
   "outputs": [],
   "source": [
    "productList = [forest_gong, forest_ygs, forest_liu, forest_chen, forest_hs]\n",
    "productNameList = [\"Forestgong\", \"Forestygs\", \"Forestliu\", \"Forestchen\", \"Foresths\"]\n",
    "predDict = {\"forestPred_onlySure\":\"users/thomasshen99/ForestPred_onlySure_1212\", \n",
    "            \"forestPred_withUnsureByCNN\":\"users/thomasshen99/ForestPred_original_1212\", \n",
    "            \"forestPred_withUnsureByCNN_CAMoffseted\":\"users/thomasshen99/ForestPred_1211\"}\n",
    "\n",
    "valPoints_cur = utils.getBalancedValPoints(valPoints_all, region=selected5d.geometry(), maxRate=4)\n",
    "\n",
    "# predictions\n",
    "for key in predDict.keys():\n",
    "    pred = ee.ImageCollection(list(map(lambda x:x['id'], ee.data.listAssets({\"parent\":\"projects/earthengine-legacy/assets/%s\" % predDict[key]})['assets']))).mosaic().rename(key)\n",
    "    productList.append(pred)\n",
    "    productNameList.append(key)\n",
    "\n",
    "# stack all product in productList & sample value to valPoints_cur\n",
    "productComp = ee.Image.cat(productList)\n",
    "valPoints_cur_sampled = productComp.sampleRegions(collection=valPoints_cur, geometries=False, scale=30)\n",
    "\n",
    "# calculate metrics and forest area, combine all in to a ee.FeatureCollection\n",
    "areaDict = ee.Dictionary(utils.CalcArea(productComp, selected5d.geometry()))\n",
    "metricsDictList = ee.List(productNameList).map(utils.getCalcMetricsFunc(valPoints_cur_sampled, areaDict))\n",
    "metricsFC = ee.FeatureCollection(metricsDictList.map(lambda x:ee.Feature(None, x)))\n",
    "\n",
    "# geemap.ee_export_vector(metricsFC, \"./foo.csv\")"
   ]
  },
  {
   "cell_type": "code",
   "execution_count": 10,
   "metadata": {},
   "outputs": [],
   "source": [
    "mDL = metricsDictList.getInfo()"
   ]
  },
  {
   "cell_type": "code",
   "execution_count": null,
   "metadata": {},
   "outputs": [],
   "source": []
  },
  {
   "source": [
    "# 5. View GEE data with geemap"
   ],
   "cell_type": "markdown",
   "metadata": {}
  },
  {
   "cell_type": "code",
   "execution_count": null,
   "metadata": {},
   "outputs": [],
   "source": [
    "Map = geemap.Map(center=[56, 26], zoom=12, add_google_map=True)\n",
    "Map.add_basemap('Google Satellite')\n",
    "\n",
    "Map.addLayer(LC_STN.clip(selected5d), vis_params={\"max\":2000, \"min\":0, \"bands\":['B4', 'B3', 'B2']}, name=\"LC08\")\n",
    "\n",
    "Map.addLayer(forest_gong.clip(selected5d), vis_params={\"max\":1, \"min\":0, \"palette\":[\"FF0000\", \"00FF00\"]}, name=\"forest_gong\")\n",
    "Map.addLayer(forest_fuse.clip(selected5d), vis_params={\"max\":5, \"min\":0, \"palette\":[\"FF0000\", \"FF0000\", \"FFFF00\", \"FFFF00\", \"00FF00\", \"00FF00\"]}, name=\"forest_fuse\", opacity=1)\n",
    "\n",
    "\n",
    "Map.addLayer(productComp, vis_params={\"max\":1, \"min\":0, \"palette\":[\"FF0000\", \"00FF00\"]}, name=\"forest_pred\", opacity=1)\n",
    "\n",
    "\n",
    "Map.addLayerControl()\n",
    "Map"
   ]
  }
 ],
 "metadata": {
  "kernelspec": {
   "name": "python3",
   "display_name": "Python 3.8.3 64-bit (conda)",
   "metadata": {
    "interpreter": {
     "hash": "b3ba2566441a7c06988d0923437866b63cedc61552a5af99d1f4fb67d367b25f"
    }
   }
  },
  "language_info": {
   "codemirror_mode": {
    "name": "ipython",
    "version": 3
   },
   "file_extension": ".py",
   "mimetype": "text/x-python",
   "name": "python",
   "nbconvert_exporter": "python",
   "pygments_lexer": "ipython3",
   "version": "3.8.3-final"
  }
 },
 "nbformat": 4,
 "nbformat_minor": 4
}